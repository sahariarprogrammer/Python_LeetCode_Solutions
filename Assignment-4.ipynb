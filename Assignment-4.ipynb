{
 "cells": [
  {
   "cell_type": "markdown",
   "id": "426b4428",
   "metadata": {},
   "source": [
    "maximum-product-of-three-numbers\n"
   ]
  },
  {
   "cell_type": "code",
   "execution_count": 9,
   "id": "46b8738c",
   "metadata": {},
   "outputs": [
    {
     "name": "stdout",
     "output_type": "stream",
     "text": [
      "6\n",
      "24\n",
      "-6\n"
     ]
    }
   ],
   "source": [
    "def product(nums):\n",
    "    new=[]\n",
    "    for x in range(3):\n",
    "        for i in nums:\n",
    "            if i==max(nums):\n",
    "                new.append(i)\n",
    "                nums.remove(i)\n",
    "    pro=1\n",
    "    for j in new:\n",
    "        pro*=j\n",
    "    return pro\n",
    "print(product([1,2,3]))\n",
    "print(product([1,2,3,4]))\n",
    "print(product([-1,-2,-3]))\n"
   ]
  },
  {
   "cell_type": "markdown",
   "id": "a4d94bc0",
   "metadata": {},
   "source": [
    "richest-customer-wealth"
   ]
  },
  {
   "cell_type": "code",
   "execution_count": 10,
   "id": "122d4e8b",
   "metadata": {},
   "outputs": [
    {
     "name": "stdout",
     "output_type": "stream",
     "text": [
      "6\n",
      "10\n",
      "17\n"
     ]
    }
   ],
   "source": [
    "def fun(nums):\n",
    "    max=0\n",
    "    for i in nums:\n",
    "        sum=0\n",
    "        for j in i:\n",
    "            sum+=j\n",
    "            if sum>max:\n",
    "                max=sum\n",
    "    return max\n",
    "print(fun([[1,2,3],[3,2,1]]))\n",
    "print(fun([[1,5],[7,3],[3,5]]))\n",
    "print(fun([[2,8,7],[7,1,3],[1,9,5]]))"
   ]
  },
  {
   "cell_type": "markdown",
   "id": "a1a1b879",
   "metadata": {},
   "source": [
    "shuffle-the-array"
   ]
  },
  {
   "cell_type": "code",
   "execution_count": 11,
   "id": "f6ab4168",
   "metadata": {},
   "outputs": [
    {
     "name": "stdout",
     "output_type": "stream",
     "text": [
      "[2, 3, 5, 4, 1, 7]\n",
      "[1, 4, 2, 3, 3, 2, 4, 1]\n",
      "[1, 2, 1, 2]\n"
     ]
    }
   ],
   "source": [
    "def fun(nums):\n",
    "    length=len(nums)//2\n",
    "\n",
    "    list1=nums[:length]\n",
    "    list2=nums[length:]\n",
    "\n",
    "    listfinal=[]\n",
    "    for i in range(length):\n",
    "        listfinal.append(list1[i])\n",
    "        listfinal.append(list2[i])\n",
    "    return listfinal\n",
    "\n",
    "print(fun([2,5,1,3,4,7]))\n",
    "print(fun([1,2,3,4,4,3,2,1]))\n",
    "print(fun([1,1,2,2]))"
   ]
  },
  {
   "cell_type": "markdown",
   "id": "da90b53f",
   "metadata": {},
   "source": [
    "valid-perfect-square"
   ]
  },
  {
   "cell_type": "code",
   "execution_count": 12,
   "id": "ab9ab2d6",
   "metadata": {},
   "outputs": [
    {
     "name": "stdout",
     "output_type": "stream",
     "text": [
      "True\n",
      "False\n"
     ]
    }
   ],
   "source": [
    "def func(num):\n",
    "    a=num**(0.5)\n",
    "    b=str(a)\n",
    "    if '.0' in b:\n",
    "        return True\n",
    "    else:\n",
    "        return False\n",
    "print(func(16))\n",
    "print(func(14))"
   ]
  }
 ],
 "metadata": {
  "kernelspec": {
   "display_name": "Python 3",
   "language": "python",
   "name": "python3"
  },
  "language_info": {
   "codemirror_mode": {
    "name": "ipython",
    "version": 3
   },
   "file_extension": ".py",
   "mimetype": "text/x-python",
   "name": "python",
   "nbconvert_exporter": "python",
   "pygments_lexer": "ipython3",
   "version": "3.8.8"
  }
 },
 "nbformat": 4,
 "nbformat_minor": 5
}
